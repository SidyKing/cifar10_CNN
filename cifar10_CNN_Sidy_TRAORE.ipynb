{
  "cells": [
    {
      "cell_type": "markdown",
      "metadata": {
        "cell_id": "262edabdca8d45b6a8b7796c0e0e4782",
        "deepnote_cell_type": "text-cell-h1",
        "formattedRanges": [],
        "id": "oEWA14AHNViZ"
      },
      "source": [
        "# Examen Deep Learning M2 SIR UADB"
      ]
    },
    {
      "cell_type": "markdown",
      "metadata": {
        "cell_id": "50096c511a39441d95ed54f4112afb2c",
        "deepnote_cell_type": "text-cell-h3",
        "formattedRanges": [],
        "is_collapsed": false,
        "id": "1v9qtFxXNVic"
      },
      "source": [
        "### Papa Sidy Mactar TRAORE M2 SI"
      ]
    },
    {
      "cell_type": "markdown",
      "metadata": {
        "cell_id": "4121e70070184bdba4418d3ecc7f98e7",
        "deepnote_cell_type": "text-cell-h2",
        "formattedRanges": [
          {
            "fromCodePoint": 0,
            "marks": {
              "bold": true
            },
            "toCodePoint": 21,
            "type": "marks"
          }
        ],
        "is_collapsed": false,
        "id": "TRYMRuhkNVic"
      },
      "source": [
        "## 1. Questions de cours"
      ]
    },
    {
      "cell_type": "markdown",
      "metadata": {
        "cell_id": "adeff59f6b804c9aaea34048d4b99582",
        "deepnote_cell_type": "text-cell-bullet",
        "formattedRanges": [
          {
            "fromCodePoint": 0,
            "marks": {
              "bold": true
            },
            "toCodePoint": 41,
            "type": "marks"
          }
        ],
        "id": "kX2RNvggNVid"
      },
      "source": [
        "- Présentation des concepts de base des CNN"
      ]
    },
    {
      "cell_type": "markdown",
      "metadata": {
        "cell_id": "180ca76502944b5ba736a85695fb4133",
        "deepnote_cell_type": "text-cell-p",
        "formattedRanges": [],
        "id": "qW33PQKpNVid"
      },
      "source": [
        "Le réseau de neurones convolutifs (CNN) est l'une des méthodes d'apprentissage profond les plus connues. Ces réseaux traitent principalement des images. Leur approche est similaire aux méthodes d'apprentissage supervisé traditionnelles : recevoir des images en entrée, détecter automatiquement les caractéristiques (propriétés) de chaque image, puis entraîner un classificateur sur celle-ci. L'architecture spécifique du réseau permet d'extraire des fonctionnalités de complexité variable, des plus simples aux plus complexes. L'extraction et la priorisation automatiques de fonctionnalités adaptées à un problème donné constituent l'un des avantages des réseaux de neurones convolutifs."
      ]
    },
    {
      "cell_type": "markdown",
      "metadata": {
        "cell_id": "2fc06986368e44d9b98712fe10515a00",
        "deepnote_cell_type": "text-cell-bullet",
        "formattedRanges": [
          {
            "fromCodePoint": 0,
            "marks": {
              "bold": true
            },
            "toCodePoint": 29,
            "type": "marks"
          }
        ],
        "id": "gFo8QdXvNVid"
      },
      "source": [
        "- Architecture typique d'un CNN"
      ]
    },
    {
      "cell_type": "markdown",
      "metadata": {
        "cell_id": "f057fca2c0b64abbb6308c86f4580643",
        "deepnote_cell_type": "text-cell-p",
        "formattedRanges": [],
        "id": "jwx4xCFUNVie"
      },
      "source": [
        "L'architecture d'un CNN est composée de deux blocs principaux :"
      ]
    },
    {
      "cell_type": "markdown",
      "metadata": {
        "cell_id": "091da2dd632c4e82ae48cb19641286d0",
        "deepnote_cell_type": "text-cell-p",
        "formattedRanges": [
          {
            "fromCodePoint": 0,
            "marks": {
              "bold": true
            },
            "toCodePoint": 11,
            "type": "marks"
          }
        ],
        "id": "gHV6nZHSNVie"
      },
      "source": [
        "1. Bloc 1 :"
      ]
    },
    {
      "cell_type": "markdown",
      "metadata": {
        "cell_id": "9108003918fc494a9b9b79a78f13f903",
        "deepnote_cell_type": "text-cell-p",
        "formattedRanges": [],
        "id": "iTb9FeVgNVie"
      },
      "source": [
        "Ce bloc est la particularité de CNN. Il agit comme un extracteur de fonctionnalités en appliquant des opérations de filtrage convolutif. La première couche filtre l'image avec plusieurs noyaux de convolution pour produire une « carte des caractéristiques ». Ces cartes de fonctionnalités sont ensuite normalisées (à l'aide de fonctions d'activation) et/ou redimensionnées. Ce processus peut être répété plusieurs fois, en filtrant les cartes de fonctionnalités générées avec de nouveaux noyaux pour générer de nouvelles cartes de fonctionnalités à des fins de normalisation et de redimensionnement. Enfin, les valeurs de la dernière carte de caractéristiques sont concaténées dans un vecteur. Ce vecteur définit la sortie du premier bloc et l'entrée du deuxième bloc."
      ]
    },
    {
      "cell_type": "markdown",
      "metadata": {
        "cell_id": "eaee23bc70ce4a36861cfd6df32d9249",
        "deepnote_cell_type": "text-cell-p",
        "formattedRanges": [
          {
            "fromCodePoint": 0,
            "marks": {
              "bold": true
            },
            "toCodePoint": 11,
            "type": "marks"
          }
        ],
        "id": "B8Q1i56jNVie"
      },
      "source": [
        "2. Bloc 2 :"
      ]
    },
    {
      "cell_type": "markdown",
      "metadata": {
        "cell_id": "1ad0b0ddcff9433f94f2dd5e896f0414",
        "deepnote_cell_type": "text-cell-p",
        "formattedRanges": [],
        "id": "xi6r0eeJNVie"
      },
      "source": [
        "Les valeurs du vecteur en entrée sont transformées\n",
        "(avec plusieurs combinaisons linéaires et fonctions d’activation) pour\n",
        "renvoyer un nouveau vecteur en sortie. Ce dernier vecteur contient\n",
        "autant d’éléments qu’il y a de classes : l’élément i représente la\n",
        "probabilité que l’image appartienne à la classe i"
      ]
    },
    {
      "cell_type": "markdown",
      "metadata": {
        "cell_id": "8245c410c60e4de4940af480c13eb60e",
        "deepnote_cell_type": "text-cell-p",
        "formattedRanges": [],
        "id": "bdMGa5qDNVif"
      },
      "source": [
        "Il existe quatre types de couches pour un réseau de neurones convolutif :\n"
      ]
    },
    {
      "cell_type": "markdown",
      "metadata": {
        "cell_id": "a12422844e64496fa267cb2f730fe4c9",
        "deepnote_cell_type": "text-cell-p",
        "formattedRanges": [],
        "id": "uX8DvisgNVif"
      },
      "source": [
        "1. la couche de convolution,\n"
      ]
    },
    {
      "cell_type": "markdown",
      "metadata": {
        "cell_id": "f1766579cc784cec8bca4e722c3abad2",
        "deepnote_cell_type": "text-cell-p",
        "formattedRanges": [],
        "id": "dfSiJxhqNVig"
      },
      "source": [
        "2. la couche de pooling,\n"
      ]
    },
    {
      "cell_type": "markdown",
      "metadata": {
        "cell_id": "3c5b54e3705646058a8ed30ed932c40a",
        "deepnote_cell_type": "text-cell-p",
        "formattedRanges": [],
        "id": "F5URacXuNVig"
      },
      "source": [
        "3. la couche de correction ReLU,\n"
      ]
    },
    {
      "cell_type": "markdown",
      "metadata": {
        "cell_id": "6d10121603f64ddeb9a375ca0a11d5c9",
        "deepnote_cell_type": "text-cell-p",
        "formattedRanges": [],
        "id": "hnGljrFjNVig"
      },
      "source": [
        "4. la couche fully-connected."
      ]
    },
    {
      "cell_type": "markdown",
      "metadata": {
        "cell_id": "94767cca3e2c4e8b9bc30f89a86f9a57",
        "deepnote_cell_type": "text-cell-p",
        "formattedRanges": [],
        "id": "04TMQMgkNVig"
      },
      "source": [
        "Avec cette architecture, les CNN sont capables d'extraire des features de différentes complexités, des plus simples aux plus sophistiquées, et de les hiérarchiser automatiquement pour s'adapter au problème donné."
      ]
    },
    {
      "cell_type": "markdown",
      "metadata": {
        "cell_id": "a5de93db32c449b1b3f31542814c8534",
        "deepnote_cell_type": "text-cell-h2",
        "formattedRanges": [],
        "id": "NY-j9JQENVig"
      },
      "source": [
        "## 2. Préparation des données"
      ]
    },
    {
      "cell_type": "markdown",
      "metadata": {
        "cell_id": "a681e32338a04719bd60c3bf4e290e89",
        "deepnote_cell_type": "text-cell-p",
        "formattedRanges": [],
        "id": "BrWTHNYlNVig"
      },
      "source": [
        "Téléchargement et prétraitement de l'ensemble de données CIFAR-10"
      ]
    },
    {
      "cell_type": "markdown",
      "metadata": {
        "cell_id": "c9fd1ed437db475b97eeb7ab8dcfcfa8",
        "deepnote_cell_type": "text-cell-p",
        "formattedRanges": [],
        "id": "qRpdS293NVig"
      },
      "source": [
        "L'ensemble de données CIFAR-10 est un ensemble de données d'images couramment utilisé pour l'apprentissage automatique et la formation de modèles de vision par ordinateur. Il contient 60 000 images de 32x32 pixels réparties en 10 classes, avec 6 000 images par classe."
      ]
    },
    {
      "cell_type": "code",
      "execution_count": 1,
      "metadata": {
        "cell_id": "74cc285f44b04b1ebad2813ed59a7604",
        "deepnote_cell_type": "code",
        "deepnote_to_be_reexecuted": false,
        "execution_millis": 6354,
        "execution_start": 1698842314683,
        "source_hash": "44ac4791",
        "id": "oTDkca3vNVih"
      },
      "outputs": [],
      "source": [
        "from keras.datasets import cifar10\n",
        "import tensorflow as tf\n",
        "import seaborn as sns\n",
        "import numpy as np\n",
        "import pandas as pd\n",
        "import matplotlib.pyplot as plt\n",
        "import matplotlib.image as mpimg\n",
        "import itertools"
      ]
    },
    {
      "cell_type": "code",
      "execution_count": 2,
      "metadata": {
        "cell_id": "727ffa245f504ae3b13a5a63bb2b801d",
        "deepnote_cell_type": "code",
        "deepnote_to_be_reexecuted": false,
        "execution_millis": 230,
        "execution_start": 1698842575880,
        "source_hash": "2dfb674d",
        "colab": {
          "base_uri": "https://localhost:8080/"
        },
        "id": "CWXSrNimNVii",
        "outputId": "713aad78-dc50-425b-dc58-ca14e5de27f8"
      },
      "outputs": [
        {
          "output_type": "stream",
          "name": "stdout",
          "text": [
            "Downloading data from https://www.cs.toronto.edu/~kriz/cifar-10-python.tar.gz\n",
            "170498071/170498071 [==============================] - 3s 0us/step\n"
          ]
        }
      ],
      "source": [
        "# Téléchargement de l'ensemble de données\n",
        "(x_train, y_train), (x_test, y_test) = cifar10.load_data()"
      ]
    },
    {
      "cell_type": "code",
      "execution_count": 3,
      "metadata": {
        "cell_id": "2d33e0f7543249689d38275fbc29dd10",
        "deepnote_cell_type": "code",
        "deepnote_to_be_reexecuted": false,
        "execution_millis": 35,
        "execution_start": 1698842576721,
        "source_hash": "d41ad660",
        "colab": {
          "base_uri": "https://localhost:8080/"
        },
        "id": "suKGbBEMNVii",
        "outputId": "6730e69f-4519-4108-93ff-65b302a1bfe1"
      },
      "outputs": [
        {
          "output_type": "execute_result",
          "data": {
            "text/plain": [
              "False"
            ]
          },
          "metadata": {},
          "execution_count": 3
        }
      ],
      "source": [
        "# Voir s'il y a des valeurs nulles\n",
        "np.isnan(x_train).any()"
      ]
    },
    {
      "cell_type": "code",
      "execution_count": 4,
      "metadata": {
        "cell_id": "d4a26814f5d3477abbcdf293f5ae913f",
        "deepnote_cell_type": "code",
        "deepnote_to_be_reexecuted": false,
        "execution_millis": 27,
        "execution_start": 1698842577424,
        "source_hash": "d12b1f41",
        "colab": {
          "base_uri": "https://localhost:8080/"
        },
        "id": "02OZ0qIdNVii",
        "outputId": "940f3f76-78f6-4b57-eb24-50e4f97e9cf1"
      },
      "outputs": [
        {
          "output_type": "execute_result",
          "data": {
            "text/plain": [
              "False"
            ]
          },
          "metadata": {},
          "execution_count": 4
        }
      ],
      "source": [
        "np.isnan(x_test).any()"
      ]
    },
    {
      "cell_type": "code",
      "execution_count": 5,
      "metadata": {
        "cell_id": "1fe9a50f6310467e97f7bba31c9ea56e",
        "deepnote_cell_type": "code",
        "deepnote_to_be_reexecuted": false,
        "execution_millis": 165,
        "execution_start": 1698842588205,
        "source_hash": "5ddb2d6b",
        "colab": {
          "base_uri": "https://localhost:8080/",
          "height": 448
        },
        "id": "LKI92dewNVij",
        "outputId": "61170125-8f4c-41e7-ff7e-a6b35d098f93"
      },
      "outputs": [
        {
          "output_type": "stream",
          "name": "stdout",
          "text": [
            "[8]\n"
          ]
        },
        {
          "output_type": "display_data",
          "data": {
            "text/plain": [
              "<Figure size 640x480 with 1 Axes>"
            ],
            "image/png": "[encoded data removed]"
          },
          "metadata": {}
        }
      ],
      "source": [
        "#visualisons\n",
        "plt.imshow(x_train[100])\n",
        "print(y_train[100])"
      ]
    },
    {
      "cell_type": "code",
      "execution_count": 6,
      "metadata": {
        "cell_id": "be2b6d34aeb74a1a8b18ee96e7b5ea7c",
        "deepnote_cell_type": "code",
        "deepnote_to_be_reexecuted": false,
        "execution_millis": 15,
        "execution_start": 1698842596320,
        "source_hash": "6b4d6ed5",
        "colab": {
          "base_uri": "https://localhost:8080/"
        },
        "id": "GvGsHQy3NVij",
        "outputId": "4a5a3f7a-3286-4705-fa10-6a5e88688f18"
      },
      "outputs": [
        {
          "output_type": "execute_result",
          "data": {
            "text/plain": [
              "(50000, 32, 32, 3)"
            ]
          },
          "metadata": {},
          "execution_count": 6
        }
      ],
      "source": [
        "x_train.shape"
      ]
    },
    {
      "cell_type": "code",
      "execution_count": 7,
      "metadata": {
        "cell_id": "799e0fbd37f74ae598513d3955bdadf8",
        "deepnote_cell_type": "code",
        "deepnote_to_be_reexecuted": false,
        "execution_millis": 210,
        "execution_start": 1698842602687,
        "source_hash": "5546720",
        "id": "p10m1Dh5NVij"
      },
      "outputs": [],
      "source": [
        "#Reshapping et normalisation de x_train\n",
        "input_shape = (32, 32, 3)\n",
        "\n",
        "x_train=x_train.reshape(x_train.shape[0], x_train.shape[1], x_train.shape[2], 3)\n",
        "x_train=x_train / 255.0\n",
        "x_test = x_test.reshape(x_test.shape[0], x_test.shape[1], x_test.shape[2], 3)\n",
        "x_test=x_test / 255.0"
      ]
    },
    {
      "cell_type": "code",
      "execution_count": 8,
      "metadata": {
        "cell_id": "5dd51dd39d154938a49490b4403172c5",
        "deepnote_cell_type": "code",
        "deepnote_to_be_reexecuted": false,
        "execution_millis": 8,
        "execution_start": 1698842640172,
        "source_hash": "fd36cb08",
        "id": "YesfeJtWNVij"
      },
      "outputs": [],
      "source": [
        "#Utilisation du one hot encoding pour transformer les données Y catégoriques en continues\n",
        "y_train = y_train.flatten()\n",
        "y_test = y_test.flatten()\n",
        "\n",
        "y_train = tf.one_hot(y_train.astype(np.int32), depth=10)\n",
        "y_test = tf.one_hot(y_test.astype(np.int32), depth=10)"
      ]
    },
    {
      "cell_type": "code",
      "execution_count": 9,
      "metadata": {
        "cell_id": "9789273e99dc406dab22c8f61a501d09",
        "deepnote_cell_type": "code",
        "deepnote_to_be_reexecuted": false,
        "execution_millis": 6,
        "execution_start": 1698842649688,
        "source_hash": "848d4281",
        "colab": {
          "base_uri": "https://localhost:8080/"
        },
        "id": "9sZ-ul-sNVij",
        "outputId": "54f65942-d538-484e-e677-74a82199f720"
      },
      "outputs": [
        {
          "output_type": "execute_result",
          "data": {
            "text/plain": [
              "<tf.Tensor: shape=(10,), dtype=float32, numpy=array([0., 0., 0., 0., 0., 0., 1., 0., 0., 0.], dtype=float32)>"
            ]
          },
          "metadata": {},
          "execution_count": 9
        }
      ],
      "source": [
        "y_train[0]"
      ]
    },
    {
      "cell_type": "code",
      "execution_count": 10,
      "metadata": {
        "cell_id": "8659eb21623f4e749735574a313cbb3a",
        "deepnote_cell_type": "code",
        "deepnote_to_be_reexecuted": false,
        "execution_millis": 9,
        "execution_start": 1698842655607,
        "source_hash": "5cec5075",
        "id": "LDeT3rgsNVik"
      },
      "outputs": [],
      "source": [
        "# le cifar10 compte les 10 classes suivantes\n",
        "classes = ['airplane', 'automobile', 'bird', 'cat', 'deer', 'dog', 'frog', 'horse', 'ship', 'truck']"
      ]
    },
    {
      "cell_type": "markdown",
      "metadata": {
        "cell_id": "8d3435889df1426c8ade370920c63b24",
        "deepnote_cell_type": "text-cell-p",
        "formattedRanges": [],
        "id": "Jdtl8SB7NVik"
      },
      "source": []
    },
    {
      "cell_type": "markdown",
      "metadata": {
        "cell_id": "bf7a6902ea614ddbb090060565a79f7e",
        "deepnote_cell_type": "text-cell-h2",
        "formattedRanges": [],
        "id": "Xhb0HkMMNVik"
      },
      "source": [
        "## 3. Modèle CNN"
      ]
    },
    {
      "cell_type": "code",
      "execution_count": 11,
      "metadata": {
        "cell_id": "9e2d7275940b45e98c8958801bab0f02",
        "deepnote_cell_type": "code",
        "deepnote_to_be_reexecuted": false,
        "execution_millis": 65,
        "execution_start": 1698842711312,
        "source_hash": "14c6b28e",
        "id": "88xZhVFhNVik"
      },
      "outputs": [],
      "source": [
        "#definition des parametres du modele\n",
        "batch_size = 32\n",
        "num_classes = 10\n",
        "epochs = 50"
      ]
    },
    {
      "cell_type": "code",
      "execution_count": 12,
      "metadata": {
        "cell_id": "438304325699450cbd98ea53f8c270a2",
        "deepnote_cell_type": "code",
        "deepnote_to_be_reexecuted": false,
        "execution_millis": 565,
        "execution_start": 1698843974128,
        "source_hash": "76029721",
        "id": "8f6EQbzuNVik"
      },
      "outputs": [],
      "source": [
        "model = tf.keras.models.Sequential([\n",
        "    tf.keras.layers.Conv2D(32, 3, padding='same', input_shape=x_train.shape[1:], activation='relu'),\n",
        "    tf.keras.layers.Conv2D(32, 3, activation='relu'),\n",
        "    tf.keras.layers.MaxPooling2D(),\n",
        "    tf.keras.layers.Dropout(0.25),\n",
        "\n",
        "    tf.keras.layers.Conv2D(64, 3, padding='same', activation='relu'),\n",
        "    tf.keras.layers.Conv2D(64, 3, activation='relu'),\n",
        "    tf.keras.layers.MaxPooling2D(),\n",
        "    tf.keras.layers.Dropout(0.25),\n",
        "\n",
        "    tf.keras.layers.Flatten(),\n",
        "    tf.keras.layers.Dense(512, activation='relu'),\n",
        "    tf.keras.layers.Dropout(0.5),\n",
        "    tf.keras.layers.Dense(num_classes, activation='softmax'),\n",
        "])"
      ]
    },
    {
      "cell_type": "markdown",
      "metadata": {
        "cell_id": "44a4217b06ae4124a29ff819d7562660",
        "deepnote_cell_type": "text-cell-p",
        "formattedRanges": [],
        "id": "ksXStZunNVik"
      },
      "source": [
        "Le modèle contient plusieurs couches superposées. La sortie d’une couche fournit l’entrée de la couche suivante."
      ]
    },
    {
      "cell_type": "markdown",
      "metadata": {
        "cell_id": "ad1624a95eee4b4fb8e71e9653d255af",
        "deepnote_cell_type": "text-cell-p",
        "formattedRanges": [
          {
            "fromCodePoint": 12,
            "marks": {
              "bold": true
            },
            "toCodePoint": 18,
            "type": "marks"
          }
        ],
        "id": "Jt1RXQ7aNVik"
      },
      "source": [
        "Les couches Conv2D sont des convolutions. Chaque filtre (32 dans les deux premières couches convolutives, 64 dans les deux couches convolutives suivantes) transforme une partie de l'image (5x5 dans les deux premières couches Conv2D, 3x3 dans les deux suivantes). La transformation est appliquée à l'ensemble de l'image."
      ]
    },
    {
      "cell_type": "markdown",
      "metadata": {
        "cell_id": "d3023289dbe9477c832d20aa0840efe5",
        "deepnote_cell_type": "text-cell-p",
        "formattedRanges": [
          {
            "fromCodePoint": 0,
            "marks": {
              "bold": true
            },
            "toCodePoint": 9,
            "type": "marks"
          }
        ],
        "id": "bMFCb4fPNVik"
      },
      "source": [
        "MaxPool2D est un filtre de déséchantillonnage. Il réduit la matrice 2x2 de l'image à un seul pixel avec la valeur maximale de la matrice 2x2. Le but du filtre est de conserver les principales caractéristiques de l'image tout en réduisant sa taille."
      ]
    },
    {
      "cell_type": "markdown",
      "metadata": {
        "cell_id": "049e3225a16d4904b9c156353d4222bd",
        "deepnote_cell_type": "text-cell-p",
        "formattedRanges": [
          {
            "fromCodePoint": 0,
            "marks": {
              "bold": true
            },
            "toCodePoint": 7,
            "type": "marks"
          }
        ],
        "id": "C4_XxcGQNVik"
      },
      "source": [
        "Dropout est une couche de régularisation. Dans notre modèle, 25 % des nœuds de la couche sont ignorés de manière aléatoire, ce qui permet au réseau d'apprendre différentes caractéristiques. Cela permet d'éviter l'ajustement excessif."
      ]
    },
    {
      "cell_type": "markdown",
      "metadata": {
        "cell_id": "f182afada0de4834912b91bfb0477cba",
        "deepnote_cell_type": "text-cell-p",
        "formattedRanges": [
          {
            "fromCodePoint": 0,
            "marks": {
              "bold": true
            },
            "toCodePoint": 4,
            "type": "marks"
          }
        ],
        "id": "lQcZq6OhNVil"
      },
      "source": [
        "Relu est un redresseur utilisé pour trouver des non-linéarités dans les données. Si la valeur d'entrée >= 0, renvoie la valeur d'entrée. Si l'entrée est négative, 0 est renvoyé."
      ]
    },
    {
      "cell_type": "markdown",
      "metadata": {
        "cell_id": "b83a2d1f037742edb68f6b76f0db27af",
        "deepnote_cell_type": "text-cell-p",
        "formattedRanges": [
          {
            "fromCodePoint": 0,
            "marks": {
              "bold": true
            },
            "toCodePoint": 7,
            "type": "marks"
          }
        ],
        "id": "ekKN4Bt7NVit"
      },
      "source": [
        "Flatten convertit les tenseurs en un vecteur 1D."
      ]
    },
    {
      "cell_type": "markdown",
      "metadata": {
        "cell_id": "e859db9aad3c4a6cad021d88e3d6f269",
        "deepnote_cell_type": "text-cell-p",
        "formattedRanges": [
          {
            "fromCodePoint": 12,
            "marks": {
              "bold": true
            },
            "toCodePoint": 17,
            "type": "marks"
          }
        ],
        "id": "So7wBySHNVit"
      },
      "source": [
        "Les couches Dense sont un réseau neuronal artificiel (ANN). La dernière couche renvoie la probabilité qu'une image appartienne à chaque classe (une pour chaque chiffre)."
      ]
    },
    {
      "cell_type": "markdown",
      "metadata": {
        "cell_id": "ca3c1fa88bac48a199089a201db45193",
        "deepnote_cell_type": "text-cell-h2",
        "formattedRanges": [],
        "id": "oDscx452NVit"
      },
      "source": [
        "## 4. Entraînement du Modèle :"
      ]
    },
    {
      "cell_type": "code",
      "execution_count": 13,
      "metadata": {
        "cell_id": "3a814d1080d845b2aaf555fb80bd20bb",
        "deepnote_cell_type": "code",
        "deepnote_to_be_reexecuted": false,
        "execution_millis": 12,
        "execution_start": 1698843980973,
        "source_hash": "2b049702",
        "id": "Oy8AF47pNVit"
      },
      "outputs": [],
      "source": [
        "model.compile(optimizer=tf.keras.optimizers.RMSprop(learning_rate=0.0001, weight_decay=1e-06),\n",
        "            loss='categorical_crossentropy', metrics=['acc'])"
      ]
    },
    {
      "cell_type": "markdown",
      "metadata": {
        "cell_id": "15d45854fbed4d7cb62351806ad607c9",
        "deepnote_cell_type": "text-cell-p",
        "formattedRanges": [
          {
            "fromCodePoint": 0,
            "marks": {
              "bold": true
            },
            "toCodePoint": 28,
            "type": "marks"
          }
        ],
        "id": "VIfLQuG2NViu"
      },
      "source": [
        "tf.keras.optimizers.RMSprop : RMSprop (Root Mean Square Propagation) est un optimiseur adaptatif qui ajuste le taux d'apprentissage de chaque paramètre du modèle."
      ]
    },
    {
      "cell_type": "markdown",
      "metadata": {
        "cell_id": "81e20a5019b740b08907ab3d7920ada0",
        "deepnote_cell_type": "text-cell-p",
        "formattedRanges": [
          {
            "fromCodePoint": 0,
            "marks": {
              "bold": true
            },
            "toCodePoint": 21,
            "type": "marks"
          }
        ],
        "id": "upfPhvhWNViu"
      },
      "source": [
        "learning_rate=0.0001 : C'est le taux d'apprentissage initial pour l'optimiseur."
      ]
    },
    {
      "cell_type": "markdown",
      "metadata": {
        "cell_id": "3b0d706a56bb46a59889a594dc42a1eb",
        "deepnote_cell_type": "text-cell-p",
        "formattedRanges": [
          {
            "fromCodePoint": 0,
            "marks": {
              "bold": true
            },
            "toCodePoint": 11,
            "type": "marks"
          }
        ],
        "id": "QNu83k5gNViu"
      },
      "source": [
        "decay=1e-06 : C'est le taux de décroissance du taux d'apprentissage. Cela signifie que le taux d'apprentissage diminuera légèrement après chaque mise à jour, ce qui peut aider à stabiliser l'entraînement dans les dernières étapes."
      ]
    },
    {
      "cell_type": "markdown",
      "metadata": {
        "cell_id": "a0a1e9a62d084f6384fc5682d6d97040",
        "deepnote_cell_type": "text-cell-p",
        "formattedRanges": [
          {
            "fromCodePoint": 0,
            "marks": {
              "bold": true
            },
            "toCodePoint": 26,
            "type": "marks"
          }
        ],
        "id": "SaXcGYzwNViu"
      },
      "source": [
        "'categorical_crossentropy' : Cette fonction de perte est utilisée pour les problèmes de classification multiclasse où les étiquettes ont été codées en one-hot. Elle mesure la différence entre les probabilités prédites par le modèle et les vraies étiquettes."
      ]
    },
    {
      "cell_type": "markdown",
      "metadata": {
        "cell_id": "4f894098652d46889a5b388401c3e787",
        "deepnote_cell_type": "text-cell-p",
        "formattedRanges": [
          {
            "fromCodePoint": 0,
            "marks": {
              "bold": true
            },
            "toCodePoint": 5,
            "type": "marks"
          }
        ],
        "id": "kxxFh73PNViu"
      },
      "source": [
        "'acc' : C'est la précision de classification. Elle mesure le pourcentage d'images qui sont correctement classifiées par le modèle."
      ]
    },
    {
      "cell_type": "code",
      "execution_count": 14,
      "metadata": {
        "cell_id": "2692c94c6f3348b9b6385d294e9c6655",
        "deepnote_cell_type": "code",
        "deepnote_to_be_reexecuted": false,
        "execution_start": 1698843984927,
        "source_hash": "3163dc6f",
        "colab": {
          "base_uri": "https://localhost:8080/"
        },
        "id": "PdFNNUsxNViu",
        "outputId": "7f5b79d9-ab8f-40ea-c514-a731f2096403"
      },
      "outputs": [
        {
          "output_type": "stream",
          "name": "stdout",
          "text": [
            "Epoch 1/50\n",
            "1563/1563 [==============================] - 21s 6ms/step - loss: 1.8372 - acc: 0.3251\n",
            "Epoch 2/50\n",
            "1563/1563 [==============================] - 9s 6ms/step - loss: 1.5109 - acc: 0.4527\n",
            "Epoch 3/50\n",
            "1563/1563 [==============================] - 10s 6ms/step - loss: 1.3671 - acc: 0.5095\n",
            "Epoch 4/50\n",
            "1563/1563 [==============================] - 14s 9ms/step - loss: 1.2697 - acc: 0.5485\n",
            "Epoch 5/50\n",
            "1563/1563 [==============================] - 10s 6ms/step - loss: 1.1897 - acc: 0.5784\n",
            "Epoch 6/50\n",
            "1563/1563 [==============================] - 11s 7ms/step - loss: 1.1185 - acc: 0.6045\n",
            "Epoch 7/50\n",
            "1563/1563 [==============================] - 9s 6ms/step - loss: 1.0564 - acc: 0.6268\n",
            "Epoch 8/50\n",
            "1563/1563 [==============================] - 9s 6ms/step - loss: 1.0070 - acc: 0.6457\n",
            "Epoch 9/50\n",
            "1563/1563 [==============================] - 9s 6ms/step - loss: 0.9621 - acc: 0.6629\n",
            "Epoch 10/50\n",
            "1563/1563 [==============================] - 9s 6ms/step - loss: 0.9229 - acc: 0.6768\n",
            "Epoch 11/50\n",
            "1563/1563 [==============================] - 9s 6ms/step - loss: 0.8863 - acc: 0.6881\n",
            "Epoch 12/50\n",
            "1563/1563 [==============================] - 9s 5ms/step - loss: 0.8577 - acc: 0.6994\n",
            "Epoch 13/50\n",
            "1563/1563 [==============================] - 9s 6ms/step - loss: 0.8328 - acc: 0.7081\n",
            "Epoch 14/50\n",
            "1563/1563 [==============================] - 9s 6ms/step - loss: 0.8107 - acc: 0.7183\n",
            "Epoch 15/50\n",
            "1563/1563 [==============================] - 9s 6ms/step - loss: 0.7928 - acc: 0.7247\n",
            "Epoch 16/50\n",
            "1563/1563 [==============================] - 9s 6ms/step - loss: 0.7737 - acc: 0.7308\n",
            "Epoch 17/50\n",
            "1563/1563 [==============================] - 9s 6ms/step - loss: 0.7558 - acc: 0.7367\n",
            "Epoch 18/50\n",
            "1563/1563 [==============================] - 9s 6ms/step - loss: 0.7423 - acc: 0.7443\n",
            "Epoch 19/50\n",
            "1563/1563 [==============================] - 9s 6ms/step - loss: 0.7319 - acc: 0.7479\n",
            "Epoch 20/50\n",
            "1563/1563 [==============================] - 9s 6ms/step - loss: 0.7173 - acc: 0.7536\n",
            "Epoch 21/50\n",
            "1563/1563 [==============================] - 9s 6ms/step - loss: 0.7096 - acc: 0.7573\n",
            "Epoch 22/50\n",
            "1563/1563 [==============================] - 9s 6ms/step - loss: 0.6995 - acc: 0.7617\n",
            "Epoch 23/50\n",
            "1563/1563 [==============================] - 9s 6ms/step - loss: 0.6938 - acc: 0.7609\n",
            "Epoch 24/50\n",
            "1563/1563 [==============================] - 9s 6ms/step - loss: 0.6883 - acc: 0.7640\n",
            "Epoch 25/50\n",
            "1563/1563 [==============================] - 9s 6ms/step - loss: 0.6825 - acc: 0.7648\n",
            "Epoch 26/50\n",
            "1563/1563 [==============================] - 9s 6ms/step - loss: 0.6769 - acc: 0.7679\n",
            "Epoch 27/50\n",
            "1563/1563 [==============================] - 9s 5ms/step - loss: 0.6741 - acc: 0.7717\n",
            "Epoch 28/50\n",
            "1563/1563 [==============================] - 9s 6ms/step - loss: 0.6701 - acc: 0.7721\n",
            "Epoch 29/50\n",
            "1563/1563 [==============================] - 9s 6ms/step - loss: 0.6624 - acc: 0.7754\n",
            "Epoch 30/50\n",
            "1563/1563 [==============================] - 9s 6ms/step - loss: 0.6558 - acc: 0.7756\n",
            "Epoch 31/50\n",
            "1563/1563 [==============================] - 9s 6ms/step - loss: 0.6533 - acc: 0.7765\n",
            "Epoch 32/50\n",
            "1563/1563 [==============================] - 9s 6ms/step - loss: 0.6491 - acc: 0.7799\n",
            "Epoch 33/50\n",
            "1563/1563 [==============================] - 9s 6ms/step - loss: 0.6485 - acc: 0.7816\n",
            "Epoch 34/50\n",
            "1563/1563 [==============================] - 9s 6ms/step - loss: 0.6409 - acc: 0.7845\n",
            "Epoch 35/50\n",
            "1563/1563 [==============================] - 9s 6ms/step - loss: 0.6385 - acc: 0.7824\n",
            "Epoch 36/50\n",
            "1563/1563 [==============================] - 9s 6ms/step - loss: 0.6335 - acc: 0.7860\n",
            "Epoch 37/50\n",
            "1563/1563 [==============================] - 9s 6ms/step - loss: 0.6324 - acc: 0.7861\n",
            "Epoch 38/50\n",
            "1563/1563 [==============================] - 9s 5ms/step - loss: 0.6268 - acc: 0.7887\n",
            "Epoch 39/50\n",
            "1563/1563 [==============================] - 9s 6ms/step - loss: 0.6209 - acc: 0.7896\n",
            "Epoch 40/50\n",
            "1563/1563 [==============================] - 9s 6ms/step - loss: 0.6168 - acc: 0.7917\n",
            "Epoch 41/50\n",
            "1563/1563 [==============================] - 9s 6ms/step - loss: 0.6151 - acc: 0.7927\n",
            "Epoch 42/50\n",
            "1563/1563 [==============================] - 9s 6ms/step - loss: 0.6131 - acc: 0.7946\n",
            "Epoch 43/50\n",
            "1563/1563 [==============================] - 9s 6ms/step - loss: 0.6065 - acc: 0.7955\n",
            "Epoch 44/50\n",
            "1563/1563 [==============================] - 9s 6ms/step - loss: 0.6025 - acc: 0.7954\n",
            "Epoch 45/50\n",
            "1563/1563 [==============================] - 9s 6ms/step - loss: 0.6042 - acc: 0.7978\n",
            "Epoch 46/50\n",
            "1563/1563 [==============================] - 9s 6ms/step - loss: 0.6008 - acc: 0.7997\n",
            "Epoch 47/50\n",
            "1563/1563 [==============================] - 9s 6ms/step - loss: 0.5938 - acc: 0.7983\n",
            "Epoch 48/50\n",
            "1563/1563 [==============================] - 9s 6ms/step - loss: 0.5912 - acc: 0.8033\n",
            "Epoch 49/50\n",
            "1563/1563 [==============================] - 9s 6ms/step - loss: 0.5897 - acc: 0.7993\n",
            "Epoch 50/50\n",
            "1563/1563 [==============================] - 9s 6ms/step - loss: 0.5912 - acc: 0.7984\n"
          ]
        }
      ],
      "source": [
        "history = model.fit(x_train, y_train, batch_size=batch_size, epochs=epochs)"
      ]
    },
    {
      "cell_type": "markdown",
      "metadata": {
        "cell_id": "ec95ab6d532a4430977175cec14399a3",
        "deepnote_cell_type": "text-cell-h2",
        "formattedRanges": [],
        "id": "V8WMGCWENViu"
      },
      "source": [
        "## 5. Évaluation du Modèle :"
      ]
    },
    {
      "cell_type": "code",
      "execution_count": 15,
      "metadata": {
        "cell_id": "7677a0e55f9e497da8674539fe1e9ff0",
        "deepnote_cell_type": "code",
        "colab": {
          "base_uri": "https://localhost:8080/",
          "height": 430
        },
        "id": "zgY5riywNViv",
        "outputId": "8dfea7a4-037e-4d2e-8cc0-674ead47cd0c"
      },
      "outputs": [
        {
          "output_type": "display_data",
          "data": {
            "text/plain": [
              "<Figure size 640x480 with 2 Axes>"
            ],
            "image/png": "[encoded data removed]"
          },
          "metadata": {}
        }
      ],
      "source": [
        "fig, ax = plt.subplots(2,1)\n",
        "ax[0].plot(history.history['loss'], color='b', label=\"Training Loss\")\n",
        "legend = ax[0].legend(loc='best', shadow=True)\n",
        "\n",
        "ax[1].plot(history.history['acc'], color='b', label=\"Training Accuracy\")\n",
        "legend = ax[1].legend(loc='best', shadow=True)"
      ]
    },
    {
      "cell_type": "markdown",
      "metadata": {
        "cell_id": "72c104b1e8f8420781e485e85c6a708a",
        "deepnote_cell_type": "text-cell-p",
        "formattedRanges": [
          {
            "fromCodePoint": 0,
            "marks": {
              "bold": true
            },
            "toCodePoint": 20,
            "type": "marks"
          },
          {
            "fromCodePoint": 37,
            "marks": {
              "bold": true
            },
            "toCodePoint": 51,
            "type": "marks"
          }
        ],
        "id": "o1b1mkbnNViv"
      },
      "source": [
        "L'accuracy augmente avec le temps et le loss baisse avec le temps."
      ]
    },
    {
      "cell_type": "markdown",
      "metadata": {
        "cell_id": "100e2ceb24144a5082133d9fad535bc7",
        "deepnote_cell_type": "text-cell-p",
        "formattedRanges": [],
        "id": "HapcR6b1NViv"
      },
      "source": [
        "Cependant, la précision de notre ensemble de validation semble baisser légèrement vers la fin, même si la précision de l'entraînement a augmenté."
      ]
    },
    {
      "cell_type": "markdown",
      "metadata": {
        "cell_id": "65b5cca14897495ab028450efbbba550",
        "deepnote_cell_type": "text-cell-p",
        "formattedRanges": [],
        "id": "8yejpLo3NViv"
      },
      "source": [
        "L'exécution du modèle pendant un plus grand nombre d'époques pourrait rendre notre modèle susceptible d'être overfitté."
      ]
    },
    {
      "cell_type": "code",
      "execution_count": 16,
      "metadata": {
        "cell_id": "4765cfdfb9524c2bb5ad762c406ea177",
        "deepnote_cell_type": "code",
        "colab": {
          "base_uri": "https://localhost:8080/"
        },
        "id": "oQpAo87UNViv",
        "outputId": "97cead6e-bd7c-4b8f-f99c-9d9e6a29ff26"
      },
      "outputs": [
        {
          "output_type": "stream",
          "name": "stdout",
          "text": [
            "313/313 [==============================] - 1s 3ms/step - loss: 0.6196 - acc: 0.7970\n"
          ]
        }
      ],
      "source": [
        "#Predictions\n",
        "test_loss, test_acc = model.evaluate(x_test, y_test)"
      ]
    },
    {
      "cell_type": "markdown",
      "metadata": {
        "cell_id": "4ba159af580c4f00b1e9f6a237056c35",
        "deepnote_cell_type": "text-cell-p",
        "formattedRanges": [],
        "id": "HaV3JSmQNViv"
      },
      "source": [
        "Notre modèle fonctionne assez bien, avec une précision de ~80% sur nos données de test."
      ]
    },
    {
      "cell_type": "markdown",
      "metadata": {
        "cell_id": "e598e41203534e3bbab741d1049353f9",
        "deepnote_cell_type": "text-cell-h3",
        "formattedRanges": [],
        "id": "vvq8DD2QNViv"
      },
      "source": [
        "### Matrice de confusion"
      ]
    },
    {
      "cell_type": "code",
      "execution_count": 17,
      "metadata": {
        "cell_id": "0885b2dbb2ff44e1abd52bef25335177",
        "deepnote_cell_type": "code",
        "colab": {
          "base_uri": "https://localhost:8080/"
        },
        "id": "9dybjZQONViv",
        "outputId": "7d39834d-318f-455f-c5fc-083815832b82"
      },
      "outputs": [
        {
          "output_type": "stream",
          "name": "stdout",
          "text": [
            "313/313 [==============================] - 1s 3ms/step\n"
          ]
        }
      ],
      "source": [
        "# Predict the values from the validation dataset\n",
        "y_pred = model.predict(x_test)\n",
        "# Convert predictions classes to one hot vectors\n",
        "y_pred_classes = np.argmax(y_pred,axis = 1)\n",
        "# Convert validation observations to one hot vectors\n",
        "y_true = np.argmax(y_test,axis = 1)\n",
        "# compute the confusion matrix\n",
        "confusion_mtx = tf.math.confusion_matrix(y_true, y_pred_classes)"
      ]
    },
    {
      "cell_type": "code",
      "execution_count": 18,
      "metadata": {
        "cell_id": "0c027c3332084f9cb2188070ae2207ab",
        "deepnote_cell_type": "code",
        "colab": {
          "base_uri": "https://localhost:8080/",
          "height": 1000
        },
        "id": "v_zqRD87NViw",
        "outputId": "f42defe2-43f5-444e-8d3d-787d9a3f9364"
      },
      "outputs": [
        {
          "output_type": "execute_result",
          "data": {
            "text/plain": [
              "[[Text(0.5, 0, 'airplane'),\n",
              "  Text(1.5, 0, 'automobile'),\n",
              "  Text(2.5, 0, 'bird'),\n",
              "  Text(3.5, 0, 'cat'),\n",
              "  Text(4.5, 0, 'deer'),\n",
              "  Text(5.5, 0, 'dog'),\n",
              "  Text(6.5, 0, 'frog'),\n",
              "  Text(7.5, 0, 'horse'),\n",
              "  Text(8.5, 0, 'ship'),\n",
              "  Text(9.5, 0, 'truck')],\n",
              " [Text(0, 0.5, 'airplane'),\n",
              "  Text(0, 1.5, 'automobile'),\n",
              "  Text(0, 2.5, 'bird'),\n",
              "  Text(0, 3.5, 'cat'),\n",
              "  Text(0, 4.5, 'deer'),\n",
              "  Text(0, 5.5, 'dog'),\n",
              "  Text(0, 6.5, 'frog'),\n",
              "  Text(0, 7.5, 'horse'),\n",
              "  Text(0, 8.5, 'ship'),\n",
              "  Text(0, 9.5, 'truck')]]"
            ]
          },
          "metadata": {},
          "execution_count": 18
        },
        {
          "output_type": "display_data",
          "data": {
            "text/plain": [
              "<Figure size 1200x900 with 2 Axes>"
            ],
            "image/png": "[encoded data removed]"
          },
          "metadata": {}
        }
      ],
      "source": [
        "plt.figure(figsize=(12, 9))\n",
        "c = sns.heatmap(confusion_mtx, annot=True, fmt='g')\n",
        "c.set(xticklabels=classes, yticklabels=classes)"
      ]
    },
    {
      "cell_type": "markdown",
      "source": [
        "Nous constatons que notre modèle classe assez bien les navires (ship), puisque 898 des 1000 images de navires ont été classées correctement.\n",
        "Nous constatons également que la confusion entre les chats et les chiens est relativement importante."
      ],
      "metadata": {
        "id": "iFBr2b_gP1Z3"
      }
    },
    {
      "cell_type": "markdown",
      "metadata": {
        "cell_id": "aa5b0582681f48e98ed403e7eed153a7",
        "deepnote_cell_type": "text-cell-h2",
        "formattedRanges": [],
        "id": "ExwPC9rzNViw"
      },
      "source": [
        "## 6. Amélioration du Modèle :"
      ]
    },
    {
      "cell_type": "markdown",
      "metadata": {
        "cell_id": "7aa7ca698fbb45beb7076e5709df9ebf",
        "deepnote_cell_type": "text-cell-p",
        "formattedRanges": [],
        "id": "i1pttg2yNViw"
      },
      "source": [
        "Voici quelques suggestions pour améliorer les performances de notre modèle CNN :"
      ]
    },
    {
      "cell_type": "markdown",
      "metadata": {
        "cell_id": "848b843f6f5c437da7de1b28bcea024d",
        "deepnote_cell_type": "text-cell-p",
        "formattedRanges": [
          {
            "fromCodePoint": 0,
            "marks": {
              "bold": true
            },
            "toCodePoint": 29,
            "type": "marks"
          }
        ],
        "id": "dqQM8DaHNViw"
      },
      "source": [
        "Réglage des Hyperparamètres :"
      ]
    },
    {
      "cell_type": "markdown",
      "metadata": {
        "cell_id": "137c0a4721d842099ba6595160130653",
        "deepnote_cell_type": "text-cell-p",
        "formattedRanges": [],
        "id": "HXgmJtEZNViw"
      },
      "source": [
        "On peut essayer différents taux d'apprentissage, batch sizes, et optimiseurs. On peut également envisager d'utiliser des méthodes de recherche d'hyperparamètres comme la recherche aléatoire ou la recherche par grille."
      ]
    },
    {
      "cell_type": "markdown",
      "metadata": {
        "cell_id": "a224a6c7ee5d4754b692e897a275da18",
        "deepnote_cell_type": "text-cell-p",
        "formattedRanges": [
          {
            "fromCodePoint": 0,
            "marks": {
              "bold": true
            },
            "toCodePoint": 36,
            "type": "marks"
          }
        ],
        "id": "vEOA-SX_NViw"
      },
      "source": [
        "Utilisation de Batch Normalization :"
      ]
    },
    {
      "cell_type": "markdown",
      "metadata": {
        "cell_id": "7f5f33f8b5804dd29c3ef68c085f9286",
        "deepnote_cell_type": "text-cell-p",
        "formattedRanges": [],
        "id": "60xkA7y_NViw"
      },
      "source": [
        "La normalisation par lots peut aider à accélérer l'entraînement et à stabiliser la convergence. Nous pouvons ajouter des couches de normalisation par lots après les couches de convolution et avant les fonctions d'activation."
      ]
    },
    {
      "cell_type": "markdown",
      "metadata": {
        "cell_id": "407ff04d1d27426bbd9f48f878eaa4e6",
        "deepnote_cell_type": "text-cell-p",
        "formattedRanges": [
          {
            "fromCodePoint": 0,
            "marks": {
              "bold": true
            },
            "toCodePoint": 16,
            "type": "marks"
          }
        ],
        "id": "JgJpLbkDNViw"
      },
      "source": [
        "Régularisation :"
      ]
    },
    {
      "cell_type": "markdown",
      "metadata": {
        "cell_id": "d3bba713578a49d7b6b60104221b9323",
        "deepnote_cell_type": "text-cell-p",
        "formattedRanges": [],
        "id": "j30v3Ym0NViw"
      },
      "source": [
        "En plus du dropout, on peut envisager d'utiliser la régularisation L1 ou L2 sur les couches denses pour éviter le surapprentissage."
      ]
    },
    {
      "cell_type": "markdown",
      "metadata": {
        "cell_id": "4bbedf8a6fe94ea78d707b37ce5cfb36",
        "deepnote_cell_type": "text-cell-p",
        "formattedRanges": [
          {
            "fromCodePoint": 0,
            "marks": {
              "bold": true
            },
            "toCodePoint": 16,
            "type": "marks"
          }
        ],
        "id": "s_PfoWXdNVix"
      },
      "source": [
        "Early Stopping :"
      ]
    },
    {
      "cell_type": "markdown",
      "metadata": {
        "cell_id": "366aea7da5de44aea356598a6d88844a",
        "deepnote_cell_type": "text-cell-p",
        "formattedRanges": [],
        "id": "TilNwQ08NVix"
      },
      "source": [
        "Utilisez l'arrêt précoce pour arrêter l'entraînement lorsque la performance sur l'ensemble de validation ne s'améliore plus. Cela peut aider à éviter le surapprentissage et à économiser du temps d'entraînement."
      ]
    },
    {
      "cell_type": "markdown",
      "metadata": {
        "created_in_deepnote_cell": true,
        "deepnote_cell_type": "markdown",
        "id": "CJlKYrx6NVix"
      },
      "source": [
        "<a style='text-decoration:none;line-height:16px;display:flex;color:#5B5B62;padding:10px;justify-content:end;' href='https://deepnote.com?utm_source=created-in-deepnote-cell&projectId=521fd021-a974-47d3-ab9d-6732ce431fd7' target=\"_blank\">\n",
        "<img alt='Created in deepnote.com' style='display:inline;max-height:16px;margin:0px;margin-right:7.5px;' src='data:image/svg+xml;base64,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' > </img>\n",
        "Created in <span style='font-weight:600;margin-left:4px;'>Deepnote</span></a>"
      ]
    }
  ],
  "metadata": {
    "deepnote": {},
    "deepnote_execution_queue": [],
    "deepnote_notebook_id": "ea76a417d5dc4121a218b3ab39c06ea7",
    "kernelspec": {
      "display_name": "Python 3",
      "name": "python3"
    },
    "language_info": {
      "codemirror_mode": {
        "name": "ipython",
        "version": 3
      },
      "file_extension": ".py",
      "mimetype": "text/x-python",
      "name": "python",
      "nbconvert_exporter": "python",
      "pygments_lexer": "ipython3",
      "version": "3.8.18"
    },
    "colab": {
      "provenance": [],
      "gpuType": "T4"
    },
    "accelerator": "GPU"
  },
  "nbformat": 4,
  "nbformat_minor": 0
}